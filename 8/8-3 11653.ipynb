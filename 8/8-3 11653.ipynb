{
 "cells": [
  {
   "cell_type": "code",
   "execution_count": null,
   "id": "cf21215d",
   "metadata": {},
   "outputs": [],
   "source": [
    "# 많이 빨라진 코드 104 ms\n",
    "N = int(input())\n",
    "divided_N = N\n",
    "i = 2\n",
    "prime_factors_list = []\n",
    "while i < int(divided_N**0.5)+1:\n",
    "    if divided_N % i != 0:\n",
    "        i += 1\n",
    "    else:\n",
    "        prime_factors_list.append(i)\n",
    "        divided_N //= i\n",
    "prime_factors_list.append(divided_N)\n",
    "    \n",
    "if N != 1:\n",
    "    for i in prime_factors_list:\n",
    "        print(i)"
   ]
  },
  {
   "cell_type": "code",
   "execution_count": null,
   "id": "6913a18f",
   "metadata": {},
   "outputs": [],
   "source": [
    "# 최초합격코드 1672 ms\n",
    "N = int(input())\n",
    "divided_N = N\n",
    "i = 2\n",
    "prime_factors_list = []\n",
    "while i < int(N/2)+1:\n",
    "    if divided_N % i != 0:\n",
    "        i += 1\n",
    "    else:\n",
    "        prime_factors_list.append(i)\n",
    "        divided_N //= i\n",
    "if not prime_factors_list:\n",
    "    prime_factors_list.append(N)\n",
    "    \n",
    "if N != 1:\n",
    "    for i in prime_factors_list:\n",
    "        print(i)"
   ]
  }
 ],
 "metadata": {
  "interpreter": {
   "hash": "ed51c9c81bc19d27c7d394ccf0371e213bc919d7a19bdebd956718e15f85551a"
  },
  "kernelspec": {
   "display_name": "Python 3 (ipykernel)",
   "language": "python",
   "name": "python3"
  },
  "language_info": {
   "codemirror_mode": {
    "name": "ipython",
    "version": 3
   },
   "file_extension": ".py",
   "mimetype": "text/x-python",
   "name": "python",
   "nbconvert_exporter": "python",
   "pygments_lexer": "ipython3",
   "version": "3.9.7"
  }
 },
 "nbformat": 4,
 "nbformat_minor": 5
}
