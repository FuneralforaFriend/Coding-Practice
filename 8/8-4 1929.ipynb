{
 "cells": [
  {
   "cell_type": "code",
   "execution_count": null,
   "id": "c97a13e4",
   "metadata": {},
   "outputs": [],
   "source": [
    "M, N = map(int, input().split())\n",
    "prime_num_list = []\n",
    "\n",
    "for i in range(M, N+1):\n",
    "    if i > 1:\n",
    "        prime_flag = True\n",
    "        for j in range(int(i**0.5)+1):\n",
    "            if j > 1:\n",
    "                if i%j == 0:\n",
    "                    prime_flag = False\n",
    "                    break\n",
    "        if prime_flag == True:\n",
    "            prime_num_list.append(i)\n",
    "\n",
    "for i in prime_num_list:\n",
    "    print(i)"
   ]
  }
 ],
 "metadata": {
  "kernelspec": {
   "display_name": "Python 3 (ipykernel)",
   "language": "python",
   "name": "python3"
  },
  "language_info": {
   "codemirror_mode": {
    "name": "ipython",
    "version": 3
   },
   "file_extension": ".py",
   "mimetype": "text/x-python",
   "name": "python",
   "nbconvert_exporter": "python",
   "pygments_lexer": "ipython3",
   "version": "3.9.7"
  }
 },
 "nbformat": 4,
 "nbformat_minor": 5
}
