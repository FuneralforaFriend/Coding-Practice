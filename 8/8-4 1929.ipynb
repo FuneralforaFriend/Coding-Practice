{
 "cells": [
  {
   "cell_type": "code",
   "execution_count": null,
   "id": "d8df3d46",
   "metadata": {},
   "outputs": [],
   "source": [
    "# 최초 코드 함수로 다듬기 약간 더 빠름\n",
    "def isPrime(num):\n",
    "    if num == 1:\n",
    "        return False\n",
    "    else:\n",
    "        for i in range(2, int(num**0.5+1)):\n",
    "            if num%i == 0:\n",
    "                return False\n",
    "        return True\n",
    "\n",
    "M, N = map(int, input().split())\n",
    "prime_num_list = []\n",
    "\n",
    "for i in range(M, N+1):\n",
    "    if isPrime(i):\n",
    "        prime_num_list.append(i)\n",
    "\n",
    "for i in prime_num_list:\n",
    "    print(i)"
   ]
  },
  {
   "cell_type": "code",
   "execution_count": null,
   "id": "c97a13e4",
   "metadata": {},
   "outputs": [],
   "source": [
    "# 최초 코드\n",
    "M, N = map(int, input().split())\n",
    "prime_num_list = []\n",
    "\n",
    "for i in range(M, N+1):\n",
    "    if i > 1:\n",
    "        prime_flag = True\n",
    "        for j in range(int(i**0.5)+1):\n",
    "            if j > 1:\n",
    "                if i%j == 0:\n",
    "                    prime_flag = False\n",
    "                    break\n",
    "        if prime_flag == True:\n",
    "            prime_num_list.append(i)\n",
    "\n",
    "for i in prime_num_list:\n",
    "    print(i)"
   ]
  },
  {
   "cell_type": "code",
   "execution_count": null,
   "id": "7399ea02",
   "metadata": {},
   "outputs": [],
   "source": [
    "# 2\n",
    "# 와... remove 무섭다 진짜 얜 2로 나누고 3으로 나누고 하니까 땡겨져도 문제가 없지 어차피 2가 나누는 최소 단위니까\n",
    "# 근데 느림\n",
    "M, N = map(int, input().split())\n",
    "list_from_M_to_N = list(range(M, N+1))\n",
    "\n",
    "for i in range(2, int((N+1)**0.5) + 1):\n",
    "    for j in list_from_M_to_N:\n",
    "        if (i != j) & (j%i == 0):\n",
    "            list_from_M_to_N.remove(j)\n",
    "\n",
    "for i in list_from_M_to_N:\n",
    "    print(i)"
   ]
  },
  {
   "cell_type": "code",
   "execution_count": 1,
   "id": "d256f989",
   "metadata": {},
   "outputs": [
    {
     "name": "stdout",
     "output_type": "stream",
     "text": [
      "3 16\n",
      "3\n",
      "5\n",
      "7\n",
      "11\n",
      "13\n"
     ]
    }
   ],
   "source": [
    "# 3\n",
    "# remove 조심하자 for 문 돌 때 인덱스 순으로 참조하는데 내부에 remove 껴있으면 재정렬하면서 인덱스 땡겨짐\n",
    "# 그래서 다음 실행 인덱스 때 건너뛰게 됨\n",
    "# 그나마 빠름 첫 답보다 느림\n",
    "def isPrime(num):\n",
    "    if num == 1:\n",
    "        return False\n",
    "    else:\n",
    "        for i in range(2, int(num**0.5+1)):\n",
    "            if num%i == 0:\n",
    "                return False\n",
    "        return True\n",
    "\n",
    "M, N = map(int, input().split())\n",
    "list_from_M_to_N = list(range(M, N+1))\n",
    "\n",
    "for i in list_from_M_to_N.copy():\n",
    "    if not isPrime(i):\n",
    "        list_from_M_to_N.remove(i)\n",
    "\n",
    "for i in list_from_M_to_N:\n",
    "    print(i)"
   ]
  },
  {
   "cell_type": "code",
   "execution_count": 3,
   "id": "6820ddad",
   "metadata": {},
   "outputs": [
    {
     "name": "stdout",
     "output_type": "stream",
     "text": [
      "3 16\n",
      "3\n",
      "5\n",
      "7\n",
      "9\n",
      "11\n",
      "13\n",
      "15\n"
     ]
    }
   ],
   "source": [
    "def isPrime(num):\n",
    "    if num == 1:\n",
    "        return False\n",
    "    else:\n",
    "        for i in range(2, int(num**0.5+1)):\n",
    "            if num%i == 0:\n",
    "                return False\n",
    "        return True\n",
    "\n",
    "M, N = map(int, input().split())\n",
    "list_from_M_to_N = list(range(M, N+1))\n",
    "\n",
    "for i in list_from_M_to_N:\n",
    "    if not isPrime(i):\n",
    "        list_from_M_to_N.remove(i)\n",
    "\n",
    "for i in list_from_M_to_N:\n",
    "    print(i)"
   ]
  },
  {
   "cell_type": "code",
   "execution_count": null,
   "id": "79307ded",
   "metadata": {},
   "outputs": [],
   "source": [
    "# 에라토스테네스의 체 이걸 그대로 구현하니 답 없이 느림\n",
    "# Sieve of Eratosthenes\n",
    "def Return_list_of_prime_numbers_under_N(N):\n",
    "    list_of_prime_numbers_under_N = list(range(2, N + 1))\n",
    "    for i in range(2, N):\n",
    "        j = 2\n",
    "        while i*j <= N:\n",
    "            if i*j in list_of_prime_numbers_under_N:\n",
    "                list_of_prime_numbers_under_N.remove(i*j)\n",
    "            j += 1\n",
    "    return list_of_prime_numbers_under_N\n",
    "\n",
    "M, N = map(int, input().split())\n",
    "list_from_M_to_N = list(range(M, N+1))\n",
    "\n",
    "# for i in Return_list_of_prime_numbers_under_N(N):\n",
    "#     if i >= M:\n",
    "#         print(i)"
   ]
  },
  {
   "cell_type": "code",
   "execution_count": null,
   "id": "2bf6f6bc",
   "metadata": {},
   "outputs": [],
   "source": [
    "for i in Return_list_of_prime_numbers_under_N(N):\n",
    "    if i >= M:\n",
    "        print(i)"
   ]
  },
  {
   "cell_type": "code",
   "execution_count": null,
   "id": "66338046",
   "metadata": {},
   "outputs": [],
   "source": [
    "# 최고 빠른 답안\n",
    "# 이건 뭘까 대체\n",
    "m, n = map(int, input().split())\n",
    "# li = [False] + [True] * ((n - 1) // 2)\n",
    "# for x in range(1, int(n**.5/2+1)):\n",
    "#   if li[x]:\n",
    "#     li[2*x*(x+1)::x*2+1] = [False] * ((((n + 1) // 2) - x * x * 2) // (x * 2 + 1))\n",
    "# if m <= 2:\n",
    "#   print(2)\n",
    "# print('\\n'.join([f'{x}' for x, val in zip(range(m+(m&1==0), n+1, 2), li[m//2:]) if val]))"
   ]
  },
  {
   "cell_type": "code",
   "execution_count": null,
   "id": "d4f6ddb7",
   "metadata": {},
   "outputs": [],
   "source": [
    "li = [False] + [True] * ((n - 1) // 2)\n",
    "for x in range(1, int(n**.5/2+1)):\n",
    "  if li[x]:\n",
    "    li[2*x*(x+1)::x*2+1] = [False] * ((((n + 1) // 2) - x * x * 2) // (x * 2 + 1))\n",
    "if m <= 2:\n",
    "  print(2)\n",
    "print('\\n'.join([f'{x}' for x, val in zip(range(m+(m&1==0), n+1, 2), li[m//2:]) if val]))"
   ]
  },
  {
   "cell_type": "code",
   "execution_count": null,
   "id": "4e18546f",
   "metadata": {},
   "outputs": [],
   "source": []
  }
 ],
 "metadata": {
  "interpreter": {
   "hash": "ed51c9c81bc19d27c7d394ccf0371e213bc919d7a19bdebd956718e15f85551a"
  },
  "kernelspec": {
   "display_name": "Python 3 (ipykernel)",
   "language": "python",
   "name": "python3"
  },
  "language_info": {
   "codemirror_mode": {
    "name": "ipython",
    "version": 3
   },
   "file_extension": ".py",
   "mimetype": "text/x-python",
   "name": "python",
   "nbconvert_exporter": "python",
   "pygments_lexer": "ipython3",
   "version": "3.9.7"
  }
 },
 "nbformat": 4,
 "nbformat_minor": 5
}
