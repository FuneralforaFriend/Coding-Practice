{
 "cells": [
  {
   "cell_type": "code",
   "execution_count": null,
   "id": "9b536a20",
   "metadata": {},
   "outputs": [],
   "source": [
    "# 최초합격코드 더 빠름\n",
    "N = int(input())\n",
    "num_list = list(map(int, input().split()))\n",
    "count = 0\n",
    "for i in num_list:\n",
    "    if i > 1:\n",
    "        for j in range(int(i**0.5)+1):\n",
    "            if j > 1:\n",
    "                if i%j == 0:\n",
    "                    count -= 1\n",
    "                    break\n",
    "        count += 1\n",
    "print(count)"
   ]
  },
  {
   "cell_type": "code",
   "execution_count": null,
   "id": "217c33f5",
   "metadata": {},
   "outputs": [],
   "source": [
    "# 함수활용코드\n",
    "def isPrime(num):\n",
    "    if num == 1:\n",
    "        return False\n",
    "    else:\n",
    "        for i in range(2, int(num**0.5+1)):\n",
    "            if num%i == 0:\n",
    "                return False\n",
    "        return True\n",
    "\n",
    "N = int(input())\n",
    "a = list(map(int, input().split()))\n",
    "count = 0\n",
    "for i in a:\n",
    "    if isPrime(i):\n",
    "        count += 1\n",
    "print(count)"
   ]
  }
 ],
 "metadata": {
  "interpreter": {
   "hash": "ed51c9c81bc19d27c7d394ccf0371e213bc919d7a19bdebd956718e15f85551a"
  },
  "kernelspec": {
   "display_name": "Python 3.9.10 ('base')",
   "language": "python",
   "name": "python3"
  },
  "language_info": {
   "codemirror_mode": {
    "name": "ipython",
    "version": 3
   },
   "file_extension": ".py",
   "mimetype": "text/x-python",
   "name": "python",
   "nbconvert_exporter": "python",
   "pygments_lexer": "ipython3",
   "version": "3.9.10"
  }
 },
 "nbformat": 4,
 "nbformat_minor": 5
}
