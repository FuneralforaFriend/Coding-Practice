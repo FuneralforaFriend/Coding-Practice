{
 "cells": [
  {
   "cell_type": "code",
   "execution_count": null,
   "id": "9b536a20",
   "metadata": {},
   "outputs": [],
   "source": [
    "N = int(input())\n",
    "num_list = list(map(int, input().split()))\n",
    "count = 0\n",
    "for i in num_list:\n",
    "    if i > 1:\n",
    "        for j in range(int(i**0.5)+1):\n",
    "            if j > 1:\n",
    "                if i%j == 0:\n",
    "                    count -= 1\n",
    "                    break;\n",
    "        count += 1\n",
    "print(count)"
   ]
  }
 ],
 "metadata": {
  "kernelspec": {
   "display_name": "Python 3 (ipykernel)",
   "language": "python",
   "name": "python3"
  },
  "language_info": {
   "codemirror_mode": {
    "name": "ipython",
    "version": 3
   },
   "file_extension": ".py",
   "mimetype": "text/x-python",
   "name": "python",
   "nbconvert_exporter": "python",
   "pygments_lexer": "ipython3",
   "version": "3.9.7"
  }
 },
 "nbformat": 4,
 "nbformat_minor": 5
}
