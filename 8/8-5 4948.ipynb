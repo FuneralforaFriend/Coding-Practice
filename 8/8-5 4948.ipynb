{
 "cells": [
  {
   "cell_type": "code",
   "execution_count": null,
   "id": "e63339e3",
   "metadata": {},
   "outputs": [],
   "source": [
    "# 함수로 좀 더 빠르게\n",
    "def isPrime(num):\n",
    "    if num == 1:\n",
    "        return False\n",
    "    else:\n",
    "        for i in range(2, int(num**0.5+1)):\n",
    "            if num%i == 0:\n",
    "                return False\n",
    "        return True\n",
    "\n",
    "prime_num_list_from_2_to_246912 = []\n",
    "for i in range(2, 123456*2):\n",
    "    if isPrime(i):\n",
    "        prime_num_list_from_2_to_246912.append(i)\n",
    "\n",
    "count = 0\n",
    "while True:\n",
    "    N = int(input())\n",
    "    if N == 0:\n",
    "        break\n",
    "    first_in = False\n",
    "    for i in prime_num_list_from_2_to_246912:\n",
    "        if N < i <= N*2:\n",
    "            count += 1\n",
    "            first_in = True\n",
    "        elif first_in == True:\n",
    "            break\n",
    "    print(count)\n",
    "    count = 0"
   ]
  },
  {
   "cell_type": "code",
   "execution_count": null,
   "id": "a3dbcfcb",
   "metadata": {},
   "outputs": [],
   "source": [
    "# 최초\n",
    "count = 0\n",
    "prime_num_list_from_2_to_246912 = []\n",
    "for i in range(2, 123456*2):\n",
    "    prime_flag = True\n",
    "    for j in range(int(i**0.5)+1):\n",
    "        if j > 1:\n",
    "            if i%j == 0:\n",
    "                prime_flag = False\n",
    "                break\n",
    "    if prime_flag == True:\n",
    "        prime_num_list_from_2_to_246912.append(i)\n",
    "\n",
    "while True:\n",
    "    N = int(input())\n",
    "    if N == 0:\n",
    "        break;\n",
    "    first_in = False\n",
    "    for i in prime_num_list_from_2_to_246912:\n",
    "        if N < i <= N*2:\n",
    "            count += 1\n",
    "            first_in = True\n",
    "        elif first_in == True:\n",
    "            break\n",
    "    print(count)\n",
    "    count = 0"
   ]
  }
 ],
 "metadata": {
  "interpreter": {
   "hash": "ed51c9c81bc19d27c7d394ccf0371e213bc919d7a19bdebd956718e15f85551a"
  },
  "kernelspec": {
   "display_name": "Python 3 (ipykernel)",
   "language": "python",
   "name": "python3"
  },
  "language_info": {
   "codemirror_mode": {
    "name": "ipython",
    "version": 3
   },
   "file_extension": ".py",
   "mimetype": "text/x-python",
   "name": "python",
   "nbconvert_exporter": "python",
   "pygments_lexer": "ipython3",
   "version": "3.9.7"
  }
 },
 "nbformat": 4,
 "nbformat_minor": 5
}
