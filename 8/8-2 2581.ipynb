{
 "cells": [
  {
   "cell_type": "code",
   "execution_count": null,
   "id": "ef28c6cd",
   "metadata": {},
   "outputs": [],
   "source": [
    "# 함수활용코드 더 빠름\n",
    "def isPrime(num):\n",
    "    if num == 1:\n",
    "        return False\n",
    "    else:\n",
    "        for i in range(2, int(num**0.5+1)):\n",
    "            if num%i == 0:\n",
    "                return False\n",
    "        return True\n",
    "\n",
    "M = int(input())\n",
    "N = int(input())\n",
    "min = 0\n",
    "sum = 0\n",
    "for i in range(M, N+1):\n",
    "    if isPrime(i):\n",
    "        if min == 0:\n",
    "            min = i\n",
    "        sum += i\n",
    "if min != 0:\n",
    "    print(sum)\n",
    "    print(min)\n",
    "else:\n",
    "    print(-1)"
   ]
  },
  {
   "cell_type": "code",
   "execution_count": null,
   "id": "2fabfee4",
   "metadata": {},
   "outputs": [],
   "source": [
    "# 최초합격코드\n",
    "M = int(input())\n",
    "N = int(input())\n",
    "min = 0\n",
    "prime_num_list = []\n",
    "\n",
    "for i in range(M, N+1):\n",
    "    if i > 1:\n",
    "        prime_flag = True\n",
    "        for j in range(int(i**0.5)+1):\n",
    "            if j > 1:\n",
    "                if i%j == 0:\n",
    "                    prime_flag = False\n",
    "                    break\n",
    "        if prime_flag == True:\n",
    "            if min == 0:\n",
    "                min = i\n",
    "            prime_num_list.append(i)\n",
    "\n",
    "if min != 0:\n",
    "    print(sum(prime_num_list))\n",
    "    print(min)\n",
    "else:\n",
    "    print(-1)"
   ]
  }
 ],
 "metadata": {
  "interpreter": {
   "hash": "ed51c9c81bc19d27c7d394ccf0371e213bc919d7a19bdebd956718e15f85551a"
  },
  "kernelspec": {
   "display_name": "Python 3 (ipykernel)",
   "language": "python",
   "name": "python3"
  },
  "language_info": {
   "codemirror_mode": {
    "name": "ipython",
    "version": 3
   },
   "file_extension": ".py",
   "mimetype": "text/x-python",
   "name": "python",
   "nbconvert_exporter": "python",
   "pygments_lexer": "ipython3",
   "version": "3.9.7"
  }
 },
 "nbformat": 4,
 "nbformat_minor": 5
}
