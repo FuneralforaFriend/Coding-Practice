{
 "cells": [
  {
   "cell_type": "code",
   "execution_count": 3,
   "id": "f4e7b1d0",
   "metadata": {},
   "outputs": [],
   "source": [
    "#testing"
   ]
  },
  {
   "cell_type": "code",
   "execution_count": null,
   "id": "bdcf52e2",
   "metadata": {},
   "outputs": [],
   "source": [
    "print(\"Hello Me!\")"
   ]
  },
  {
   "cell_type": "code",
   "execution_count": null,
   "id": "88bb015d",
   "metadata": {},
   "outputs": [],
   "source": []
  }
 ],
 "metadata": {
  "kernelspec": {
   "display_name": "Python 3 (ipykernel)",
   "language": "python",
   "name": "python3"
  },
  "language_info": {
   "codemirror_mode": {
    "name": "ipython",
    "version": 3
   },
   "file_extension": ".py",
   "mimetype": "text/x-python",
   "name": "python",
   "nbconvert_exporter": "python",
   "pygments_lexer": "ipython3",
   "version": "3.9.7"
  }
 },
 "nbformat": 4,
 "nbformat_minor": 5
}
