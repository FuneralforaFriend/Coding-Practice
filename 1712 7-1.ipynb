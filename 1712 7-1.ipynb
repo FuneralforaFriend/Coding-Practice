{
 "cells": [
  {
   "cell_type": "markdown",
   "id": "06843452",
   "metadata": {},
   "source": [
    "\\# 1712 손익분기점"
   ]
  },
  {
   "cell_type": "markdown",
   "id": "fbaf6a9d",
   "metadata": {},
   "source": [
    "A 는 최초 한 번 드는 비용<br>\n",
    "B 는 한 대 제조비용 (지속적으로 나가는 돈)<br>\n",
    "C 는 팔아서 번 돈 (똑같이 지속적으로 들어옴)<br>\n",
    "\n",
    "이익은 당연히 C > B 일 때 따질 수 있음<br>\n",
    "한 대 팔아서 남긴 이익 = C - B 이고 이것들이 쌓여서 A를 넘어서야 총 수입이 총 비용보다 많아져서 이익이 발생함<br>\n",
    "구해야 할 것은 최초로 이익이 발생하는 판매량<br>\n",
    "A // (C - B) + 1"
   ]
  }
 ],
 "metadata": {
  "kernelspec": {
   "display_name": "Python 3 (ipykernel)",
   "language": "python",
   "name": "python3"
  },
  "language_info": {
   "codemirror_mode": {
    "name": "ipython",
    "version": 3
   },
   "file_extension": ".py",
   "mimetype": "text/x-python",
   "name": "python",
   "nbconvert_exporter": "python",
   "pygments_lexer": "ipython3",
   "version": "3.9.7"
  }
 },
 "nbformat": 4,
 "nbformat_minor": 5
}
