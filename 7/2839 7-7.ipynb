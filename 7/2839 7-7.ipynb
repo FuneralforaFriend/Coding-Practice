{
 "cells": [
  {
   "cell_type": "code",
   "execution_count": null,
   "id": "96141c25",
   "metadata": {},
   "outputs": [],
   "source": [
    "N = int(input())\n",
    "if N%5 == 0:\n",
    "    print(N//5)\n",
    "elif N%5 == 1:\n",
    "    print(-1 if N<=5 else (N//5)+1)\n",
    "elif N%5 == 2:\n",
    "    print(-1 if N<=10 else (N//5)+2)\n",
    "elif N%5 == 3:\n",
    "    print((N//5)+1)\n",
    "elif N%5 == 4:\n",
    "    print(-1 if N<=5 else (N//5)+2)"
   ]
  }
 ],
 "metadata": {
  "kernelspec": {
   "display_name": "Python 3 (ipykernel)",
   "language": "python",
   "name": "python3"
  },
  "language_info": {
   "codemirror_mode": {
    "name": "ipython",
    "version": 3
   },
   "file_extension": ".py",
   "mimetype": "text/x-python",
   "name": "python",
   "nbconvert_exporter": "python",
   "pygments_lexer": "ipython3",
   "version": "3.9.7"
  }
 },
 "nbformat": 4,
 "nbformat_minor": 5
}
