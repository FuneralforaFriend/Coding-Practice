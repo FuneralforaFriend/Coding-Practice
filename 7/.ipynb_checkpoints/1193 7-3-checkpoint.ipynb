{
 "cells": [
  {
   "cell_type": "code",
   "execution_count": null,
   "id": "4e4e4847",
   "metadata": {},
   "outputs": [],
   "source": [
    "X = int(input())\n",
    "\n",
    "n = 1\n",
    "while not(X <= n*(n+1)/2):\n",
    "    n += 1\n",
    "move_amount = X - (n - 1)*(n)/2 - 1\n",
    "print(int((n if n%2 != 0 else 1) + ((-1)**(n%2))*move_amount), end=\"/\")\n",
    "print(int((1 if n%2 != 0 else n) + ((-1)**(n%2+1))*move_amount))"
   ]
  }
 ],
 "metadata": {
  "kernelspec": {
   "display_name": "Python 3 (ipykernel)",
   "language": "python",
   "name": "python3"
  },
  "language_info": {
   "codemirror_mode": {
    "name": "ipython",
    "version": 3
   },
   "file_extension": ".py",
   "mimetype": "text/x-python",
   "name": "python",
   "nbconvert_exporter": "python",
   "pygments_lexer": "ipython3",
   "version": "3.9.7"
  }
 },
 "nbformat": 4,
 "nbformat_minor": 5
}
