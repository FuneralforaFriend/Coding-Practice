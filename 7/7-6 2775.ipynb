{
 "cells": [
  {
   "cell_type": "code",
   "execution_count": null,
   "id": "451240d3",
   "metadata": {},
   "outputs": [],
   "source": [
    "T = int(input())\n",
    "for i in range(T):\n",
    "    number_of_residents = 0\n",
    "    k = int(input())\n",
    "    n = int(input())\n",
    "    \n",
    "    a = [0]*(n+1)\n",
    "    b = list(range(n+1))\n",
    "    for j in range(k-1):\n",
    "        if j%2 == 0:\n",
    "            for x in range(n+1):\n",
    "                a[x] = 0\n",
    "                for y in range(x):\n",
    "                    a[x] += b[y+1]\n",
    "        else:\n",
    "            for x in range(n+1):\n",
    "                b[x] = 0\n",
    "                for y in range(x):\n",
    "                    b[x] += a[y+1]\n",
    "    for j in range(n+1):\n",
    "        number_of_residents += b[j] if k%2 != 0 else a[j]\n",
    "    print(number_of_residents)"
   ]
  }
 ],
 "metadata": {
  "kernelspec": {
   "display_name": "Python 3 (ipykernel)",
   "language": "python",
   "name": "python3"
  },
  "language_info": {
   "codemirror_mode": {
    "name": "ipython",
    "version": 3
   },
   "file_extension": ".py",
   "mimetype": "text/x-python",
   "name": "python",
   "nbconvert_exporter": "python",
   "pygments_lexer": "ipython3",
   "version": "3.9.7"
  }
 },
 "nbformat": 4,
 "nbformat_minor": 5
}
