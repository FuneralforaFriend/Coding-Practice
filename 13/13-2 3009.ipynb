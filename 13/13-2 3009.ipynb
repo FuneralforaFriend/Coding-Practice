{
 "cells": [
  {
   "cell_type": "code",
   "execution_count": null,
   "id": "28f25f40",
   "metadata": {},
   "outputs": [],
   "source": [
    "x1, y1 = map(int, input().split())\n",
    "x2, y2 = map(int, input().split())\n",
    "x3, y3 = map(int, input().split())\n",
    "\n",
    "if x1 == x2:\n",
    "    x_goal = x3\n",
    "elif x1 == x3:\n",
    "    x_goal = x2\n",
    "else:\n",
    "    x_goal = x1\n",
    "\n",
    "if y1 == y2:\n",
    "    y_goal = y3\n",
    "elif y1 == y3:\n",
    "    y_goal = y2\n",
    "else:\n",
    "    y_goal = y1\n",
    "    \n",
    "print(x_goal, y_goal)"
   ]
  }
 ],
 "metadata": {
  "kernelspec": {
   "display_name": "Python 3 (ipykernel)",
   "language": "python",
   "name": "python3"
  },
  "language_info": {
   "codemirror_mode": {
    "name": "ipython",
    "version": 3
   },
   "file_extension": ".py",
   "mimetype": "text/x-python",
   "name": "python",
   "nbconvert_exporter": "python",
   "pygments_lexer": "ipython3",
   "version": "3.9.7"
  }
 },
 "nbformat": 4,
 "nbformat_minor": 5
}
