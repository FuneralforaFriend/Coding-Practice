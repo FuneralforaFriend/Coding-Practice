{
 "cells": [
  {
   "cell_type": "code",
   "execution_count": null,
   "id": "44dd734f",
   "metadata": {},
   "outputs": [],
   "source": [
    "# 둘 다 걸리는 시간 같고 결과 같음 단지 .count 함수를 쓰느냐(아래 것) 새 list를 만들어 쓰느냐(위 것)의 차이\n",
    "k = int(input())\n",
    "\n",
    "twoD_coord_list = []\n",
    "countfour = [0]*5\n",
    "for i in range(6):\n",
    "    twoD_coord_list.append(list(map(int, input().split())))\n",
    "    countfour[twoD_coord_list[i][0]] += 1\n",
    "\n",
    "key_index = 5\n",
    "for i in range(5):\n",
    "    if (countfour[twoD_coord_list[i][0]] == 1) & (countfour[twoD_coord_list[i+1][0]] == 1):\n",
    "        key_index = i\n",
    "\n",
    "print((twoD_coord_list[key_index][1]*twoD_coord_list[key_index-5][1] - twoD_coord_list[key_index-2][1]*twoD_coord_list[key_index-3][1])*k)"
   ]
  },
  {
   "cell_type": "code",
   "execution_count": null,
   "id": "fb813c9d",
   "metadata": {},
   "outputs": [],
   "source": [
    "k = int(input())\n",
    "\n",
    "int_list_directions = []\n",
    "int_list_lens = []\n",
    "\n",
    "for i in range(6):\n",
    "    x, y = map(int, input().split())\n",
    "    int_list_directions.append(x)\n",
    "    int_list_lens.append(y)\n",
    "\n",
    "key = 5\n",
    "for i in range(5):\n",
    "    if (int_list_directions.count(int_list_directions[i]) == 1) & (int_list_directions.count(int_list_directions[i+1]) == 1):\n",
    "        key = i\n",
    "\n",
    "print((int_list_lens[key]*int_list_lens[key - 5] - int_list_lens[key - 2]*int_list_lens[key - 3])*k)"
   ]
  }
 ],
 "metadata": {
  "kernelspec": {
   "display_name": "Python 3 (ipykernel)",
   "language": "python",
   "name": "python3"
  },
  "language_info": {
   "codemirror_mode": {
    "name": "ipython",
    "version": 3
   },
   "file_extension": ".py",
   "mimetype": "text/x-python",
   "name": "python",
   "nbconvert_exporter": "python",
   "pygments_lexer": "ipython3",
   "version": "3.8.13"
  }
 },
 "nbformat": 4,
 "nbformat_minor": 5
}
