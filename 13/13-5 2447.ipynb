{
 "cells": [
  {
   "cell_type": "code",
   "execution_count": null,
   "id": "44dd734f",
   "metadata": {},
   "outputs": [],
   "source": [
    "k = int(input())\n",
    "\n",
    "twoD_coord_list = []\n",
    "countfour = [0]*5\n",
    "for i in range(6):\n",
    "    twoD_coord_list.append(list(map(int, input().split())))\n",
    "    countfour[twoD_coord_list[i][0]] += 1\n",
    "\n",
    "key_index = 5\n",
    "for i in range(5):\n",
    "    if (countfour[twoD_coord_list[i][0]] == 1) & (countfour[twoD_coord_list[i+1][0]] == 1):\n",
    "        key_index = i\n",
    "\n",
    "print((twoD_coord_list[key_index][1]*twoD_coord_list[key_index-5][1] - twoD_coord_list[key_index-2][1]*twoD_coord_list[key_index-3][1])*k)"
   ]
  }
 ],
 "metadata": {
  "kernelspec": {
   "display_name": "Python 3 (ipykernel)",
   "language": "python",
   "name": "python3"
  },
  "language_info": {
   "codemirror_mode": {
    "name": "ipython",
    "version": 3
   },
   "file_extension": ".py",
   "mimetype": "text/x-python",
   "name": "python",
   "nbconvert_exporter": "python",
   "pygments_lexer": "ipython3",
   "version": "3.8.13"
  }
 },
 "nbformat": 4,
 "nbformat_minor": 5
}
