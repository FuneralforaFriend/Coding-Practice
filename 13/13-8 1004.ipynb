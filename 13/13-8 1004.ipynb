{
 "cells": [
  {
   "cell_type": "code",
   "execution_count": null,
   "id": "c4c94ec9",
   "metadata": {},
   "outputs": [],
   "source": [
    "import sys\n",
    "for i in range(int(sys.stdin.readline())):\n",
    "    count = 0\n",
    "    x1, y1, x2, y2 = map(int, sys.stdin.readline().split())\n",
    "    \n",
    "    for j in range(int(sys.stdin.readline())):\n",
    "        temp = list(map(int, sys.stdin.readline().split()))\n",
    "        if ((x1 - temp[0])**2 + (y1 - temp[1])**2 < (temp[2])**2) != ((x2 - temp[0])**2 + (y2 - temp[1])**2 < (temp[2])**2):\n",
    "            count += 1\n",
    "    print(count)"
   ]
  }
 ],
 "metadata": {
  "kernelspec": {
   "display_name": "Python 3 (ipykernel)",
   "language": "python",
   "name": "python3"
  },
  "language_info": {
   "codemirror_mode": {
    "name": "ipython",
    "version": 3
   },
   "file_extension": ".py",
   "mimetype": "text/x-python",
   "name": "python",
   "nbconvert_exporter": "python",
   "pygments_lexer": "ipython3",
   "version": "3.8.13"
  }
 },
 "nbformat": 4,
 "nbformat_minor": 5
}
