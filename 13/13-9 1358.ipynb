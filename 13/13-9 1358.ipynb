{
 "cells": [
  {
   "cell_type": "code",
   "execution_count": null,
   "id": "5fedee67",
   "metadata": {},
   "outputs": [],
   "source": [
    "import sys\n",
    "W, H, X, Y, P = map(int, sys.stdin.readline().split())\n",
    "count = 0\n",
    "for i in range(P):\n",
    "    x1, y1 = map(int, sys.stdin.readline().split())\n",
    "    if (x1 - X)**2 + (y1 - (Y+H//2))**2 <= (H//2)**2:\n",
    "        count += 1\n",
    "        continue\n",
    "    if (x1 - (X+W))**2 + (y1 - (Y+H//2))**2 <= (H//2)**2:\n",
    "        count += 1\n",
    "        continue\n",
    "    if (X <= x1 <= X+W) & (Y <= y1 <= Y+H):\n",
    "        count += 1\n",
    "        continue\n",
    "\n",
    "print(count)"
   ]
  }
 ],
 "metadata": {
  "kernelspec": {
   "display_name": "Python 3 (ipykernel)",
   "language": "python",
   "name": "python3"
  },
  "language_info": {
   "codemirror_mode": {
    "name": "ipython",
    "version": 3
   },
   "file_extension": ".py",
   "mimetype": "text/x-python",
   "name": "python",
   "nbconvert_exporter": "python",
   "pygments_lexer": "ipython3",
   "version": "3.8.13"
  }
 },
 "nbformat": 4,
 "nbformat_minor": 5
}
