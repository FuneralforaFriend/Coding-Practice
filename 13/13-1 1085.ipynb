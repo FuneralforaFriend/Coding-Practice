{
 "cells": [
  {
   "cell_type": "code",
   "execution_count": null,
   "id": "5923b3d9",
   "metadata": {},
   "outputs": [],
   "source": [
    "x,y,w,h = map(int, input().split())\n",
    "\n",
    "if w > h:\n",
    "    if (x < h) | (x > w - h):\n",
    "        print(min(x, w - x, y, h - y))\n",
    "    else:\n",
    "        print(min(y,h - y))\n",
    "else:\n",
    "    if (y < w) | (y > h - w):\n",
    "        print(min(y, h - y, x, w - x))\n",
    "    else:\n",
    "        print(min(x, w - x))"
   ]
  }
 ],
 "metadata": {
  "kernelspec": {
   "display_name": "Python 3 (ipykernel)",
   "language": "python",
   "name": "python3"
  },
  "language_info": {
   "codemirror_mode": {
    "name": "ipython",
    "version": 3
   },
   "file_extension": ".py",
   "mimetype": "text/x-python",
   "name": "python",
   "nbconvert_exporter": "python",
   "pygments_lexer": "ipython3",
   "version": "3.9.7"
  }
 },
 "nbformat": 4,
 "nbformat_minor": 5
}
