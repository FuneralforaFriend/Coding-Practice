{
 "cells": [
  {
   "cell_type": "code",
   "execution_count": null,
   "id": "aa9635f9",
   "metadata": {},
   "outputs": [],
   "source": [
    "T = int(input())\n",
    "\n",
    "for i in range(T):\n",
    "    x1, y1, r1, x2, y2, r2 = map(int, input().split())\n",
    "    d = ((x1-x2)**2 + (y1-y2)**2)**0.5\n",
    "    if max(r1,r2) < d: # 원 외부 원\n",
    "        if d < r1+r2:\n",
    "            print(2)\n",
    "        elif d == r1+r2:\n",
    "            print(1)\n",
    "        else:\n",
    "            print(0)\n",
    "    else:\n",
    "        if d > abs(r1-r2):\n",
    "            print(2)\n",
    "        elif d == abs(r1-r2):\n",
    "            if d == 0:\n",
    "                print(-1)\n",
    "            else:\n",
    "                print(1)\n",
    "        else:\n",
    "            print(0)"
   ]
  }
 ],
 "metadata": {
  "kernelspec": {
   "display_name": "Python 3 (ipykernel)",
   "language": "python",
   "name": "python3"
  },
  "language_info": {
   "codemirror_mode": {
    "name": "ipython",
    "version": 3
   },
   "file_extension": ".py",
   "mimetype": "text/x-python",
   "name": "python",
   "nbconvert_exporter": "python",
   "pygments_lexer": "ipython3",
   "version": "3.9.7"
  }
 },
 "nbformat": 4,
 "nbformat_minor": 5
}
