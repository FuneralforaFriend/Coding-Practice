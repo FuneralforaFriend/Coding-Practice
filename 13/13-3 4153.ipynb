{
 "cells": [
  {
   "cell_type": "code",
   "execution_count": null,
   "id": "72078e77",
   "metadata": {},
   "outputs": [],
   "source": [
    "while True:\n",
    "    xyz_list = list(map(int, input().split()))\n",
    "    if (xyz_list[0] == 0) & (xyz_list[1] == 0) & (xyz_list[2] == 0):\n",
    "        break\n",
    "    if (xyz_list.pop(xyz_list.index((max(xyz_list))))**2 == xyz_list[0]**2 + xyz_list[1]**2):\n",
    "        print(\"right\")\n",
    "    else:\n",
    "        print(\"wrong\")\n",
    "        xyz_list.pop(xyz_list.index((max(xyz_list))))"
   ]
  }
 ],
 "metadata": {
  "kernelspec": {
   "display_name": "Python 3 (ipykernel)",
   "language": "python",
   "name": "python3"
  },
  "language_info": {
   "codemirror_mode": {
    "name": "ipython",
    "version": 3
   },
   "file_extension": ".py",
   "mimetype": "text/x-python",
   "name": "python",
   "nbconvert_exporter": "python",
   "pygments_lexer": "ipython3",
   "version": "3.9.7"
  }
 },
 "nbformat": 4,
 "nbformat_minor": 5
}
