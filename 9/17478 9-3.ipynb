{
 "cells": [
  {
   "cell_type": "code",
   "execution_count": null,
   "id": "5da0dc44",
   "metadata": {},
   "outputs": [],
   "source": [
    "N = int(input())\n",
    "\n",
    "def repeat_terrible_QandA(given_count, count):\n",
    "    if count == given_count:\n",
    "        print(\"____\"*count+\"\\\"재귀함수가 뭔가요?\\\"\")\n",
    "        print(\"____\"*count+\"\\\"재귀함수는 자기 자신을 호출하는 함수라네\\\"\")\n",
    "        print(\"____\"*count+\"라고 답변하였지.\")\n",
    "    else:\n",
    "        print(\"____\"*count+\"\\\"재귀함수가 뭔가요?\\\"\")\n",
    "        print(\"____\"*count+\"\\\"잘 들어보게. 옛날옛날 한 산 꼭대기에 이세상 모든 지식을 통달한 선인이 있었어.\")\n",
    "        print(\"____\"*count+\"마을 사람들은 모두 그 선인에게 수많은 질문을 했고, 모두 지혜롭게 대답해 주었지.\")\n",
    "        print(\"____\"*count+\"그의 답은 대부분 옳았다고 하네. 그런데 어느 날, 그 선인에게 한 선비가 찾아와서 물었어.\\\"\")\n",
    "        repeat_terrible_QandA(given_count, count+1)\n",
    "        print(\"____\"*count+\"라고 답변하였지.\")\n",
    "\n",
    "print(\"어느 한 컴퓨터공학과 학생이 유명한 교수님을 찾아가 물었다.\")\n",
    "repeat_terrible_QandA(N, 0)"
   ]
  }
 ],
 "metadata": {
  "kernelspec": {
   "display_name": "Python 3 (ipykernel)",
   "language": "python",
   "name": "python3"
  },
  "language_info": {
   "codemirror_mode": {
    "name": "ipython",
    "version": 3
   },
   "file_extension": ".py",
   "mimetype": "text/x-python",
   "name": "python",
   "nbconvert_exporter": "python",
   "pygments_lexer": "ipython3",
   "version": "3.9.7"
  }
 },
 "nbformat": 4,
 "nbformat_minor": 5
}
