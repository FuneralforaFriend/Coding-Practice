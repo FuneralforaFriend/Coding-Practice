{
 "cells": [
  {
   "cell_type": "code",
   "execution_count": null,
   "id": "874e4fc4",
   "metadata": {},
   "outputs": [],
   "source": [
    "def list_of_stars(N):\n",
    "    if N == 1:\n",
    "        return [\"*\"]\n",
    "    \n",
    "    L = []\n",
    "    stars_of_lower_dimension_list = list_of_stars(N//3)\n",
    "    \n",
    "    for i in stars_of_lower_dimension_list:\n",
    "        L.append(i*3)\n",
    "    for i in stars_of_lower_dimension_list:\n",
    "        L.append(i + \" \"*(N//3) + i)\n",
    "    for i in stars_of_lower_dimension_list:\n",
    "        L.append(i*3)\n",
    "    return L\n",
    "\n",
    "N = int(input())\n",
    "\n",
    "print(\"\\n\".join(list_of_stars(N)))\n",
    "\n",
    "# 정답"
   ]
  },
  {
   "cell_type": "code",
   "execution_count": null,
   "id": "adb1b810",
   "metadata": {},
   "outputs": [],
   "source": [
    "N = int(input())\n",
    "\n",
    "def dimension_of_x(x):\n",
    "    if x < 3:\n",
    "        return 0\n",
    "    i = 3\n",
    "    exponent = 0\n",
    "    while (i <= x):\n",
    "        i *= 3\n",
    "        exponent += 1\n",
    "    return exponent\n",
    "\n",
    "def dimensional_coord_of_x(x, dimension):\n",
    "    if dimension != 0:\n",
    "        if dimension_of_x(x) > dimension:\n",
    "            return dimensional_coord_of_x(x % (3**dimension_of_x(x)), dimension)\n",
    "        else:\n",
    "            return x // (3**dimension)\n",
    "    else:\n",
    "        return x % 3\n",
    "    \n",
    "def convert_xy_to_star(x, y):\n",
    "    for i in range(dimension_of_x(min(x,y)) + 1):\n",
    "        if (dimensional_coord_of_x(x, i) == 1) & (dimensional_coord_of_x(y, i) == 1):\n",
    "            print(\" \", end=\"\")\n",
    "            return\n",
    "    print(\"*\", end=\"\")\n",
    "\n",
    "for i in range(N):\n",
    "    for j in range(N):\n",
    "        convert_xy_to_star(i, j)\n",
    "    print(\"\")\n",
    "    \n",
    "# 직접 푼 답안 => 맞게 나오는 걸 확인했지만 시간 초과 ㅠㅠ"
   ]
  }
 ],
 "metadata": {
  "kernelspec": {
   "display_name": "Python 3 (ipykernel)",
   "language": "python",
   "name": "python3"
  },
  "language_info": {
   "codemirror_mode": {
    "name": "ipython",
    "version": 3
   },
   "file_extension": ".py",
   "mimetype": "text/x-python",
   "name": "python",
   "nbconvert_exporter": "python",
   "pygments_lexer": "ipython3",
   "version": "3.9.7"
  }
 },
 "nbformat": 4,
 "nbformat_minor": 5
}
