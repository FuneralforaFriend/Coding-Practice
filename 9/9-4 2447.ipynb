{
 "cells": [
  {
   "cell_type": "code",
   "execution_count": null,
   "id": "874e4fc4",
   "metadata": {},
   "outputs": [],
   "source": [
    "# 정답 출처: https://cotak.tistory.com/38\n",
    "def list_of_stars(N):\n",
    "    if N == 1:\n",
    "        return [\"*\"]\n",
    "    \n",
    "    L = []\n",
    "    stars_of_lower_dimension_list = list_of_stars(N//3)\n",
    "    \n",
    "    for i in stars_of_lower_dimension_list:\n",
    "        L.append(i*3)\n",
    "    for i in stars_of_lower_dimension_list:\n",
    "        L.append(i + \" \"*(N//3) + i)\n",
    "    for i in stars_of_lower_dimension_list:\n",
    "        L.append(i*3)\n",
    "    return L\n",
    "\n",
    "N = int(input())\n",
    "\n",
    "print(\"\\n\".join(list_of_stars(N)))"
   ]
  },
  {
   "cell_type": "code",
   "execution_count": null,
   "id": "adb1b810",
   "metadata": {},
   "outputs": [],
   "source": [
    "# 직접 푼 답안 => 맞게 나오는 걸 확인했지만 시간 초과 ㅠㅠ\n",
    "N = int(input())\n",
    "\n",
    "def dimension_of_x(x):\n",
    "    if x < 3:\n",
    "        return 0\n",
    "    i = 3\n",
    "    exponent = 0\n",
    "    while (i <= x):\n",
    "        i *= 3\n",
    "        exponent += 1\n",
    "    return exponent\n",
    "\n",
    "def dimensional_coord_of_x(x, dimension):\n",
    "    if dimension != 0:\n",
    "        if dimension_of_x(x) > dimension:\n",
    "            return dimensional_coord_of_x(x % (3**dimension_of_x(x)), dimension)\n",
    "        else:\n",
    "            return x // (3**dimension)\n",
    "    else:\n",
    "        return x % 3\n",
    "    \n",
    "def convert_xy_to_star(x, y):\n",
    "    for i in range(dimension_of_x(min(x,y)) + 1):\n",
    "        if (dimensional_coord_of_x(x, i) == 1) & (dimensional_coord_of_x(y, i) == 1):\n",
    "            print(\" \", end=\"\")\n",
    "            return\n",
    "    print(\"*\", end=\"\")\n",
    "\n",
    "for i in range(N):\n",
    "    for j in range(N):\n",
    "        convert_xy_to_star(i, j)\n",
    "    print(\"\")"
   ]
  },
  {
   "cell_type": "code",
   "execution_count": null,
   "id": "691361e6",
   "metadata": {},
   "outputs": [],
   "source": [
    "# dimension_of_x 함수 안에 쓰이는 변수 개수를 하나 줄임\n",
    "def dimension_of_x_simple(x):\n",
    "    if x < 3:\n",
    "        return 0\n",
    "    exponent = 1\n",
    "    while (3**exponent <= x):\n",
    "        exponent += 1\n",
    "    return exponent - 1\n",
    "\n",
    "# dimension_of_x 함수에 입력값을 하나 더 만들어서 (대신 첨엔 0으로 불러야함)\n",
    "# 재귀함수화 할 수도 있다\n",
    "def dimension_of_x4(x, exponent): ## exponent = 0\n",
    "    if x == 0:\n",
    "        return 0\n",
    "    if (3**exponent <= x):\n",
    "        return dimension_of_x4(x, exponent+1)\n",
    "    return exponent - 1\n",
    "\n",
    "# dimensional_coord_of_x 라는 함수를 꼭 재귀로 나타내지 않아도 됨\n",
    "def dimensional_coord_of_x(x, dimension):\n",
    "    if dimension == 0:\n",
    "        return x%3\n",
    "    while dimension_of_x(x) > dimension:\n",
    "        x %= 3**dimension_of_x(x)\n",
    "    return x // (3**dimension)"
   ]
  }
 ],
 "metadata": {
  "kernelspec": {
   "display_name": "Python 3 (ipykernel)",
   "language": "python",
   "name": "python3"
  },
  "language_info": {
   "codemirror_mode": {
    "name": "ipython",
    "version": 3
   },
   "file_extension": ".py",
   "mimetype": "text/x-python",
   "name": "python",
   "nbconvert_exporter": "python",
   "pygments_lexer": "ipython3",
   "version": "3.9.7"
  }
 },
 "nbformat": 4,
 "nbformat_minor": 5
}
