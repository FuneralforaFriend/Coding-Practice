{
 "cells": [
  {
   "cell_type": "code",
   "execution_count": null,
   "id": "abe02270",
   "metadata": {},
   "outputs": [],
   "source": [
    "N = int(input())\n",
    "\n",
    "def block_movements(number_of_blocks, position_from, position_to):\n",
    "    movements_list = []\n",
    "    movements_list.append(2**number_of_blocks - 1)\n",
    "    position_left = 6 - (position_from + position_to)\n",
    "    \n",
    "    temp = []\n",
    "    \n",
    "    if number_of_blocks == 1:\n",
    "        movements_list.append(f\"{position_from} {position_to}\")\n",
    "    else:\n",
    "        for i in block_movements(number_of_blocks - 1, position_from, position_left)[1:]:\n",
    "            movements_list.append(i)\n",
    "        \n",
    "        movements_list.append(f\"{position_from} {position_to}\")\n",
    "\n",
    "        for i in movements_list[1:-1]:\n",
    "            for j in range(2):\n",
    "                if i.split()[j] == str(position_from):\n",
    "                    temp.append(position_left)\n",
    "                elif i.split()[j] == str(position_to):\n",
    "                    temp.append(position_from)\n",
    "                else:\n",
    "                    temp.append(position_to)\n",
    "                \n",
    "            movements_list.append(f\"{temp[0]} {temp[1]}\")\n",
    "            temp.clear()\n",
    "    \n",
    "    return movements_list\n",
    "\n",
    "for i in block_movements(N, 1, 3):\n",
    "    print(i)"
   ]
  }
 ],
 "metadata": {
  "kernelspec": {
   "display_name": "Python 3 (ipykernel)",
   "language": "python",
   "name": "python3"
  },
  "language_info": {
   "codemirror_mode": {
    "name": "ipython",
    "version": 3
   },
   "file_extension": ".py",
   "mimetype": "text/x-python",
   "name": "python",
   "nbconvert_exporter": "python",
   "pygments_lexer": "ipython3",
   "version": "3.9.7"
  }
 },
 "nbformat": 4,
 "nbformat_minor": 5
}
