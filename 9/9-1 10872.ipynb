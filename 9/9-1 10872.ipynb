{
 "cells": [
  {
   "cell_type": "code",
   "execution_count": null,
   "id": "5c0fa450",
   "metadata": {},
   "outputs": [],
   "source": [
    "# 삼항연산자의 활용 약간 더 빠름\n",
    "def factorial(n):\n",
    "    return 1 if n == 0 else n*factorial(n-1)\n",
    "\n",
    "a = int(input())\n",
    "print(factorial(a))"
   ]
  },
  {
   "cell_type": "code",
   "execution_count": null,
   "id": "da02da0e",
   "metadata": {},
   "outputs": [],
   "source": [
    "# 최초 코드\n",
    "a = int(input())\n",
    "def factorial(n):\n",
    "    if n == 0:\n",
    "        return 1\n",
    "    else:\n",
    "        return n*factorial(n-1)\n",
    "print(factorial(a))"
   ]
  }
 ],
 "metadata": {
  "kernelspec": {
   "display_name": "Python 3 (ipykernel)",
   "language": "python",
   "name": "python3"
  },
  "language_info": {
   "codemirror_mode": {
    "name": "ipython",
    "version": 3
   },
   "file_extension": ".py",
   "mimetype": "text/x-python",
   "name": "python",
   "nbconvert_exporter": "python",
   "pygments_lexer": "ipython3",
   "version": "3.9.7"
  }
 },
 "nbformat": 4,
 "nbformat_minor": 5
}
