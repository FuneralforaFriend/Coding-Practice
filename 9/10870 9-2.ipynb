{
 "cells": [
  {
   "cell_type": "code",
   "execution_count": null,
   "id": "1a00cca2",
   "metadata": {},
   "outputs": [],
   "source": [
    "int_n = int(input())\n",
    "def get_Fibonacci_numbers(n):\n",
    "    if n > 1:\n",
    "        return get_Fibonacci_numbers(n-1) + get_Fibonacci_numbers(n-2)\n",
    "    elif n == 1:\n",
    "        return 1\n",
    "    else:\n",
    "        return 0\n",
    "print(get_Fibonacci_numbers(int_n))"
   ]
  }
 ],
 "metadata": {
  "kernelspec": {
   "display_name": "Python 3 (ipykernel)",
   "language": "python",
   "name": "python3"
  },
  "language_info": {
   "codemirror_mode": {
    "name": "ipython",
    "version": 3
   },
   "file_extension": ".py",
   "mimetype": "text/x-python",
   "name": "python",
   "nbconvert_exporter": "python",
   "pygments_lexer": "ipython3",
   "version": "3.9.7"
  }
 },
 "nbformat": 4,
 "nbformat_minor": 5
}
